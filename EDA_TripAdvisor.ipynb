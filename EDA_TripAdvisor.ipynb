{
 "cells": [
  {
   "attachments": {},
   "cell_type": "markdown",
   "metadata": {},
   "source": [
    "##  <p align=\"center\" style=\"background-color:#16A085; font-family:newtimeroman; color:#FFF9ED; font-size:120%; border-radius:10px 10px;\"> Description </p>\n",
    "\n"
   ]
  },
  {
   "attachments": {},
   "cell_type": "markdown",
   "metadata": {},
   "source": [
    "# Restaurant Dashboard\n",
    "- Type of Challenge: `Learning`\n",
    "- Duration: `8 days`\n",
    "- Development Deadline: `03/05/2023 4:30 PM`\n",
    "- Repo Deadline: `12/05/2023 4:00 PM`\n",
    "- Challenge: Individual (or Team)\n",
    "\n",
    "![restaurant_food](https://media.giphy.com/media/7JzHsh3UTip20/giphy.gif)\n",
    "\n",
    "\n",
    "## Mission objectives\n",
    "\n",
    "- Be able to use data visualization libraries `matplotlib`, `seaborn`, or data tools like PowerBI to explore the data.\n",
    "- Be able to clean a dataset for analysis.\n",
    "- Be able to use colors in visualizations correctly.\n",
    "- Be able to establish conclusions about a dataset.\n",
    "- Be able to find and answer creative questions about data.\n",
    "- Be able to think outside the box.\n",
    "- Be able to create a dashboard containg visualizations that bring business insights to the client.\n",
    "\n",
    "\n",
    "## The Mission\n",
    "\n",
    "You are a data analysis consultant at an European travel agency. Your mission is to help the company find business insights from their data that will help them grow their business. \n",
    "\n",
    "To do so, you will create a dashboard! What is important to include in the dashboard? Ideally, this dashboard would help travel agents make recommendation to travellers on the best food destination for their trips across Europe.\n",
    "\n",
    "As a starting point, they provide you with data they scrapped from Trip Advisor, a popular travel website. \n",
    "\n",
    "Dataset: [TripAdvisor Restaurants Info for 31 Euro-Cities](https://www.kaggle.com/datasets/damienbeneschi/krakow-ta-restaurans-data-raw)"
   ]
  },
  {
   "attachments": {},
   "cell_type": "markdown",
   "metadata": {},
   "source": [
    "##  <p align=\"center\" style=\"background-color:#16A085; font-family:newtimeroman; color:#FFF9ED; font-size:120%; border-radius:10px 10px;\"> Imports </p>\n",
    "\n"
   ]
  },
  {
   "cell_type": "code",
   "execution_count": 78,
   "metadata": {},
   "outputs": [],
   "source": [
    "import pandas as pd \n",
    "import numpy as np \n",
    "from skimpy import clean_columns\n",
    "import ast"
   ]
  },
  {
   "cell_type": "code",
   "execution_count": 79,
   "metadata": {},
   "outputs": [],
   "source": [
    "df = pd.read_csv('../TripAdvisor_Restaurants_31Cities/Assests/TA_restaurants_curated.csv', index_col=None)"
   ]
  },
  {
   "cell_type": "code",
   "execution_count": 80,
   "metadata": {},
   "outputs": [],
   "source": [
    "df.drop(columns='Unnamed: 0', inplace= True)"
   ]
  },
  {
   "attachments": {},
   "cell_type": "markdown",
   "metadata": {},
   "source": [
    "##  <p align=\"center\" style=\"background-color:#16A085; font-family:newtimeroman; color:#FFF9ED; font-size:120%; border-radius:10px 10px;\"> Data Preproccesing & Cleaning </p>"
   ]
  },
  {
   "cell_type": "code",
   "execution_count": 81,
   "metadata": {},
   "outputs": [
    {
     "name": "stdout",
     "output_type": "stream",
     "text": [
      "<class 'pandas.core.frame.DataFrame'>\n",
      "RangeIndex: 125527 entries, 0 to 125526\n",
      "Data columns (total 10 columns):\n",
      " #   Column             Non-Null Count   Dtype  \n",
      "---  ------             --------------   -----  \n",
      " 0   Name               125527 non-null  object \n",
      " 1   City               125527 non-null  object \n",
      " 2   Cuisine Style      94176 non-null   object \n",
      " 3   Ranking            115876 non-null  float64\n",
      " 4   Rating             115897 non-null  float64\n",
      " 5   Price Range        77672 non-null   object \n",
      " 6   Number of Reviews  108183 non-null  float64\n",
      " 7   Reviews            115911 non-null  object \n",
      " 8   URL_TA             125527 non-null  object \n",
      " 9   ID_TA              125527 non-null  object \n",
      "dtypes: float64(3), object(7)\n",
      "memory usage: 9.6+ MB\n"
     ]
    }
   ],
   "source": [
    "df.info()"
   ]
  },
  {
   "cell_type": "code",
   "execution_count": 82,
   "metadata": {},
   "outputs": [
    {
     "data": {
      "text/html": [
       "<div>\n",
       "<style scoped>\n",
       "    .dataframe tbody tr th:only-of-type {\n",
       "        vertical-align: middle;\n",
       "    }\n",
       "\n",
       "    .dataframe tbody tr th {\n",
       "        vertical-align: top;\n",
       "    }\n",
       "\n",
       "    .dataframe thead th {\n",
       "        text-align: right;\n",
       "    }\n",
       "</style>\n",
       "<table border=\"1\" class=\"dataframe\">\n",
       "  <thead>\n",
       "    <tr style=\"text-align: right;\">\n",
       "      <th></th>\n",
       "      <th>Name</th>\n",
       "      <th>City</th>\n",
       "      <th>Cuisine Style</th>\n",
       "      <th>Ranking</th>\n",
       "      <th>Rating</th>\n",
       "      <th>Price Range</th>\n",
       "      <th>Number of Reviews</th>\n",
       "      <th>Reviews</th>\n",
       "      <th>URL_TA</th>\n",
       "      <th>ID_TA</th>\n",
       "    </tr>\n",
       "  </thead>\n",
       "  <tbody>\n",
       "    <tr>\n",
       "      <th>0</th>\n",
       "      <td>Martine of Martine's Table</td>\n",
       "      <td>Amsterdam</td>\n",
       "      <td>['French', 'Dutch', 'European']</td>\n",
       "      <td>1.0</td>\n",
       "      <td>5.0</td>\n",
       "      <td>$$ - $$$</td>\n",
       "      <td>136.0</td>\n",
       "      <td>[['Just like home', 'A Warm Welcome to Wintry ...</td>\n",
       "      <td>/Restaurant_Review-g188590-d11752080-Reviews-M...</td>\n",
       "      <td>d11752080</td>\n",
       "    </tr>\n",
       "    <tr>\n",
       "      <th>1</th>\n",
       "      <td>De Silveren Spiegel</td>\n",
       "      <td>Amsterdam</td>\n",
       "      <td>['Dutch', 'European', 'Vegetarian Friendly', '...</td>\n",
       "      <td>2.0</td>\n",
       "      <td>4.5</td>\n",
       "      <td>$$$$</td>\n",
       "      <td>812.0</td>\n",
       "      <td>[['Great food and staff', 'just perfect'], ['0...</td>\n",
       "      <td>/Restaurant_Review-g188590-d693419-Reviews-De_...</td>\n",
       "      <td>d693419</td>\n",
       "    </tr>\n",
       "    <tr>\n",
       "      <th>2</th>\n",
       "      <td>La Rive</td>\n",
       "      <td>Amsterdam</td>\n",
       "      <td>['Mediterranean', 'French', 'International', '...</td>\n",
       "      <td>3.0</td>\n",
       "      <td>4.5</td>\n",
       "      <td>$$$$</td>\n",
       "      <td>567.0</td>\n",
       "      <td>[['Satisfaction', 'Delicious old school restau...</td>\n",
       "      <td>/Restaurant_Review-g188590-d696959-Reviews-La_...</td>\n",
       "      <td>d696959</td>\n",
       "    </tr>\n",
       "    <tr>\n",
       "      <th>3</th>\n",
       "      <td>Vinkeles</td>\n",
       "      <td>Amsterdam</td>\n",
       "      <td>['French', 'European', 'International', 'Conte...</td>\n",
       "      <td>4.0</td>\n",
       "      <td>5.0</td>\n",
       "      <td>$$$$</td>\n",
       "      <td>564.0</td>\n",
       "      <td>[['True five star dinner', 'A superb evening o...</td>\n",
       "      <td>/Restaurant_Review-g188590-d1239229-Reviews-Vi...</td>\n",
       "      <td>d1239229</td>\n",
       "    </tr>\n",
       "    <tr>\n",
       "      <th>4</th>\n",
       "      <td>Librije's Zusje Amsterdam</td>\n",
       "      <td>Amsterdam</td>\n",
       "      <td>['Dutch', 'European', 'International', 'Vegeta...</td>\n",
       "      <td>5.0</td>\n",
       "      <td>4.5</td>\n",
       "      <td>$$$$</td>\n",
       "      <td>316.0</td>\n",
       "      <td>[['Best meal.... EVER', 'super food experience...</td>\n",
       "      <td>/Restaurant_Review-g188590-d6864170-Reviews-Li...</td>\n",
       "      <td>d6864170</td>\n",
       "    </tr>\n",
       "    <tr>\n",
       "      <th>5</th>\n",
       "      <td>Ciel Bleu Restaurant</td>\n",
       "      <td>Amsterdam</td>\n",
       "      <td>['Contemporary', 'International', 'Vegetarian ...</td>\n",
       "      <td>6.0</td>\n",
       "      <td>4.5</td>\n",
       "      <td>$$$$</td>\n",
       "      <td>745.0</td>\n",
       "      <td>[['A treat!', 'Wow just Wow'], ['01/01/2018', ...</td>\n",
       "      <td>/Restaurant_Review-g188590-d696902-Reviews-Cie...</td>\n",
       "      <td>d696902</td>\n",
       "    </tr>\n",
       "    <tr>\n",
       "      <th>6</th>\n",
       "      <td>Zaza's</td>\n",
       "      <td>Amsterdam</td>\n",
       "      <td>['French', 'International', 'Mediterranean', '...</td>\n",
       "      <td>7.0</td>\n",
       "      <td>4.5</td>\n",
       "      <td>$$ - $$$</td>\n",
       "      <td>1455.0</td>\n",
       "      <td>[['40th Birthday with my Family', 'One of the ...</td>\n",
       "      <td>/Restaurant_Review-g188590-d1014732-Reviews-Za...</td>\n",
       "      <td>d1014732</td>\n",
       "    </tr>\n",
       "  </tbody>\n",
       "</table>\n",
       "</div>"
      ],
      "text/plain": [
       "                         Name       City  \\\n",
       "0  Martine of Martine's Table  Amsterdam   \n",
       "1         De Silveren Spiegel  Amsterdam   \n",
       "2                     La Rive  Amsterdam   \n",
       "3                    Vinkeles  Amsterdam   \n",
       "4   Librije's Zusje Amsterdam  Amsterdam   \n",
       "5        Ciel Bleu Restaurant  Amsterdam   \n",
       "6                      Zaza's  Amsterdam   \n",
       "\n",
       "                                       Cuisine Style  Ranking  Rating  \\\n",
       "0                    ['French', 'Dutch', 'European']      1.0     5.0   \n",
       "1  ['Dutch', 'European', 'Vegetarian Friendly', '...      2.0     4.5   \n",
       "2  ['Mediterranean', 'French', 'International', '...      3.0     4.5   \n",
       "3  ['French', 'European', 'International', 'Conte...      4.0     5.0   \n",
       "4  ['Dutch', 'European', 'International', 'Vegeta...      5.0     4.5   \n",
       "5  ['Contemporary', 'International', 'Vegetarian ...      6.0     4.5   \n",
       "6  ['French', 'International', 'Mediterranean', '...      7.0     4.5   \n",
       "\n",
       "  Price Range  Number of Reviews  \\\n",
       "0    $$ - $$$              136.0   \n",
       "1        $$$$              812.0   \n",
       "2        $$$$              567.0   \n",
       "3        $$$$              564.0   \n",
       "4        $$$$              316.0   \n",
       "5        $$$$              745.0   \n",
       "6    $$ - $$$             1455.0   \n",
       "\n",
       "                                             Reviews  \\\n",
       "0  [['Just like home', 'A Warm Welcome to Wintry ...   \n",
       "1  [['Great food and staff', 'just perfect'], ['0...   \n",
       "2  [['Satisfaction', 'Delicious old school restau...   \n",
       "3  [['True five star dinner', 'A superb evening o...   \n",
       "4  [['Best meal.... EVER', 'super food experience...   \n",
       "5  [['A treat!', 'Wow just Wow'], ['01/01/2018', ...   \n",
       "6  [['40th Birthday with my Family', 'One of the ...   \n",
       "\n",
       "                                              URL_TA      ID_TA  \n",
       "0  /Restaurant_Review-g188590-d11752080-Reviews-M...  d11752080  \n",
       "1  /Restaurant_Review-g188590-d693419-Reviews-De_...    d693419  \n",
       "2  /Restaurant_Review-g188590-d696959-Reviews-La_...    d696959  \n",
       "3  /Restaurant_Review-g188590-d1239229-Reviews-Vi...   d1239229  \n",
       "4  /Restaurant_Review-g188590-d6864170-Reviews-Li...   d6864170  \n",
       "5  /Restaurant_Review-g188590-d696902-Reviews-Cie...    d696902  \n",
       "6  /Restaurant_Review-g188590-d1014732-Reviews-Za...   d1014732  "
      ]
     },
     "execution_count": 82,
     "metadata": {},
     "output_type": "execute_result"
    }
   ],
   "source": [
    "df.head(7)"
   ]
  },
  {
   "cell_type": "code",
   "execution_count": 83,
   "metadata": {},
   "outputs": [],
   "source": [
    "# I'm dropping this two columns because I don't need them. \n",
    "\n",
    "df.drop(['URL_TA', 'ID_TA','Ranking'],axis = 1, inplace= True) "
   ]
  },
  {
   "cell_type": "code",
   "execution_count": 84,
   "metadata": {},
   "outputs": [],
   "source": [
    "# I'm going to rename some of the columns make it clear \n",
    "\n",
    "df.rename(columns={\"Cuisine Style\" : \"Cuisine\", \n",
    "                   \"Price Range\": \"PriceRange\", \n",
    "                   \"Number of Reviews\" : \"Num_Reviews\"}, inplace = True)"
   ]
  },
  {
   "cell_type": "code",
   "execution_count": 85,
   "metadata": {},
   "outputs": [],
   "source": [
    "# functions that showing the percantage of the null values \n",
    "\n",
    "def number_nulls(df):\n",
    "    missing = df.isnull().sum() \n",
    "    return missing\n",
    "\n",
    "def percantage_nulls(serial):\n",
    "    return serial.isnull().sum() * 100 / serial.shape[0]"
   ]
  },
  {
   "cell_type": "code",
   "execution_count": 86,
   "metadata": {},
   "outputs": [
    {
     "name": "stdout",
     "output_type": "stream",
     "text": [
      "Name : 0.0\n",
      "City : 0.0\n",
      "Cuisine : 24.975503278179197\n",
      "Rating : 7.67165629705163\n",
      "PriceRange : 38.123272284050444\n",
      "Num_Reviews : 13.816947748293195\n",
      "Reviews : 7.660503318011265\n"
     ]
    }
   ],
   "source": [
    "for col in df.columns:\n",
    "    \n",
    "    print(col + \" : \" + str(percantage_nulls(df[col])))"
   ]
  },
  {
   "cell_type": "code",
   "execution_count": 87,
   "metadata": {},
   "outputs": [
    {
     "name": "stdout",
     "output_type": "stream",
     "text": [
      "Name : 0\n",
      "City : 0\n",
      "Cuisine : 31351\n",
      "Rating : 9630\n",
      "PriceRange : 47855\n",
      "Num_Reviews : 17344\n",
      "Reviews : 9616\n"
     ]
    }
   ],
   "source": [
    "for col in df.columns:\n",
    "    \n",
    "    print(col + \" : \" + str(number_nulls(df[col])))"
   ]
  },
  {
   "attachments": {},
   "cell_type": "markdown",
   "metadata": {},
   "source": [
    "Note : \n",
    "\n",
    "I saw that there is many Null Values in the raw dataset so let's figure it out how we could handle with tha dataset\n"
   ]
  },
  {
   "cell_type": "code",
   "execution_count": 88,
   "metadata": {},
   "outputs": [
    {
     "name": "stdout",
     "output_type": "stream",
     "text": [
      "<class 'pandas.core.frame.DataFrame'>\n",
      "RangeIndex: 125527 entries, 0 to 125526\n",
      "Data columns (total 7 columns):\n",
      " #   Column       Non-Null Count   Dtype  \n",
      "---  ------       --------------   -----  \n",
      " 0   Name         125527 non-null  object \n",
      " 1   City         125527 non-null  object \n",
      " 2   Cuisine      94176 non-null   object \n",
      " 3   Rating       115897 non-null  float64\n",
      " 4   PriceRange   77672 non-null   object \n",
      " 5   Num_Reviews  108183 non-null  float64\n",
      " 6   Reviews      115911 non-null  object \n",
      "dtypes: float64(2), object(5)\n",
      "memory usage: 6.7+ MB\n"
     ]
    }
   ],
   "source": [
    "df.info()"
   ]
  },
  {
   "attachments": {},
   "cell_type": "markdown",
   "metadata": {},
   "source": [
    " ! I'm going to search all of the columns 1 by 1 "
   ]
  },
  {
   "cell_type": "code",
   "execution_count": 89,
   "metadata": {},
   "outputs": [],
   "source": [
    "# filling null values according to related values with  groupby methods and their mode and medians  \n",
    "df.PriceRange.fillna(df.groupby([\"City\", \"Cuisine\"])[\"PriceRange\"].agg({pd.Series.mode}).values[0,0], inplace=True)\n",
    "df.Rating.fillna(df.groupby([\"City\", \"Cuisine\", \"PriceRange\"])[\"Rating\"].agg({pd.Series.mode}).values[0,0], inplace=True)\n",
    "df.Num_Reviews.fillna(df.groupby([\"City\", \"Cuisine\", \"PriceRange\", \"Rating\"])[\"Num_Reviews\"].agg({pd.Series.mean}).values[0,0], inplace=True)"
   ]
  },
  {
   "cell_type": "code",
   "execution_count": 90,
   "metadata": {},
   "outputs": [
    {
     "data": {
      "text/plain": [
       "array(['Amsterdam', 'Athens', 'Barcelona', 'Berlin', 'Bratislava',\n",
       "       'Brussels', 'Budapest', 'Copenhagen', 'Dublin', 'Edinburgh',\n",
       "       'Geneva', 'Hamburg', 'Helsinki', 'Krakow', 'Lisbon', 'Ljubljana',\n",
       "       'London', 'Luxembourg', 'Lyon', 'Madrid', 'Milan', 'Munich',\n",
       "       'Oporto', 'Oslo', 'Paris', 'Prague', 'Rome', 'Stockholm', 'Vienna',\n",
       "       'Warsaw', 'Zurich'], dtype=object)"
      ]
     },
     "execution_count": 90,
     "metadata": {},
     "output_type": "execute_result"
    }
   ],
   "source": [
    "df.City.unique()"
   ]
  },
  {
   "cell_type": "code",
   "execution_count": 91,
   "metadata": {},
   "outputs": [],
   "source": [
    "#Creating a dictionary for each city as keys and their countries as values\n",
    "countryDict = {\n",
    "    \"Amsterdam\"  : \"Netherlands\",\n",
    "    \"Athens\"     : \"Greece\",\n",
    "    \"Barcelona\"  : \"Spain\",\n",
    "    \"Madrid\"     : \"Spain\",\n",
    "    \"Berlin\"     : \"Germany\",\n",
    "    \"Hamburg\"    : \"Germany\",\n",
    "    \"Munich\"     : \"Germany\",\n",
    "    \"Bratislava\" : \"Slovakia\",\n",
    "    \"Brussels\"   : \"Belgium\",\n",
    "    \"Budapest\"   : \"Hungary\",\n",
    "    \"Copenhagen\" : \"Denmark\",\n",
    "    \"Dublin\"     : \"Ireland\",\n",
    "    \"Edinburgh\"  : \"United Kingdom\",\n",
    "    \"Geneva\"     : \"Italy\",\n",
    "    \"Milan\"      : \"Italy\",\n",
    "    \"Rome\"       : \"Italy\",\n",
    "    \"Helsinki\"   : \"Finland\",\n",
    "    \"Krakow\"     : \"Poland\",\n",
    "    \"Warsaw\"     : \"Poland\",\n",
    "    \"Lisbon\"     : \"Portugal\",\n",
    "    \"Oporto\"     : \"Portugal\",\n",
    "    \"Ljubljana\"  : \"Slovenia\",\n",
    "    \"London\"     : \"United Kingdom\",\n",
    "    \"Luxembourg\" : \"Luxembourg\",\n",
    "    \"Lyon\"       : \"France\",\n",
    "    \"Paris\"      : \"France\",\n",
    "    \"Oslo\"       : \"Norway\",\n",
    "    \"Prague\"     : \"Czech Republic\",\n",
    "    \"Stockholm\"  : \"Sweden\",\n",
    "    \"Vienna\"     : \"Austria\",\n",
    "    \"Zurich\"     : \"Switzerland\"\n",
    "}\n",
    "\n",
    "df[\"Country\"] = [countryDict[i] for i in df.City]"
   ]
  },
  {
   "attachments": {},
   "cell_type": "markdown",
   "metadata": {},
   "source": [
    "### <p align=\"center\" style=\"background-color:#FFA500; font-family:newtimeroman; color:#FFF9ED; font-size:120%; border-radius:10px 10px;\"> Column 0 : Name  </p>"
   ]
  },
  {
   "cell_type": "code",
   "execution_count": 92,
   "metadata": {},
   "outputs": [
    {
     "data": {
      "text/plain": [
       "McDonald's                   326\n",
       "Burger King                  175\n",
       "Subway                       130\n",
       "Pizza Express                100\n",
       "Domino's Pizza                88\n",
       "                            ... \n",
       "Estaca Zero                    1\n",
       "Expressoes da Nossa Terra      1\n",
       "Pateo Restaurante              1\n",
       "Restaurante BarAlto            1\n",
       "dieci                          1\n",
       "Name: Name, Length: 111927, dtype: int64"
      ]
     },
     "execution_count": 92,
     "metadata": {},
     "output_type": "execute_result"
    }
   ],
   "source": [
    "df.Name.value_counts(dropna=False)"
   ]
  },
  {
   "attachments": {},
   "cell_type": "markdown",
   "metadata": {},
   "source": [
    "### <p align=\"center\" style=\"background-color:#FFA500; font-family:newtimeroman; color:#FFF9ED; font-size:120%; border-radius:10px 10px;\"> Column 1 : City   </p>"
   ]
  },
  {
   "cell_type": "code",
   "execution_count": 93,
   "metadata": {},
   "outputs": [
    {
     "data": {
      "text/plain": [
       "London        18212\n",
       "Paris         14874\n",
       "Madrid         9543\n",
       "Barcelona      8425\n",
       "Berlin         7078\n",
       "Milan          6687\n",
       "Rome           5949\n",
       "Prague         4859\n",
       "Lisbon         3986\n",
       "Vienna         3724\n",
       "Amsterdam      3434\n",
       "Brussels       3204\n",
       "Hamburg        3131\n",
       "Munich         2995\n",
       "Lyon           2930\n",
       "Stockholm      2705\n",
       "Budapest       2606\n",
       "Warsaw         2352\n",
       "Copenhagen     2109\n",
       "Dublin         2082\n",
       "Athens         1938\n",
       "Edinburgh      1865\n",
       "Zurich         1667\n",
       "Oporto         1580\n",
       "Geneva         1572\n",
       "Krakow         1354\n",
       "Helsinki       1228\n",
       "Oslo           1213\n",
       "Bratislava     1067\n",
       "Luxembourg      657\n",
       "Ljubljana       501\n",
       "Name: City, dtype: int64"
      ]
     },
     "execution_count": 93,
     "metadata": {},
     "output_type": "execute_result"
    }
   ],
   "source": [
    "df.City.value_counts(dropna=False)"
   ]
  },
  {
   "attachments": {},
   "cell_type": "markdown",
   "metadata": {},
   "source": [
    "### <p align=\"center\" style=\"background-color:#FFA500; font-family:newtimeroman; color:#FFF9ED; font-size:120%; border-radius:10px 10px;\"> Column 2 : Cuisine   </p>"
   ]
  },
  {
   "cell_type": "code",
   "execution_count": 94,
   "metadata": {},
   "outputs": [
    {
     "data": {
      "text/plain": [
       "NaN                                                                             31351\n",
       "['Italian']                                                                      3473\n",
       "['French']                                                                       2569\n",
       "['Spanish']                                                                      2130\n",
       "['Cafe']                                                                         1492\n",
       "                                                                                ...  \n",
       "['Cafe', 'Polish', 'European', 'Spanish', 'Israeli', 'Vegetarian Friendly']         1\n",
       "['Polish', 'Bar', 'European', 'Eastern European', 'Central European', 'Pub']        1\n",
       "['Polish', 'Bar', 'European', 'Pub', 'Brew Pub']                                    1\n",
       "['French', 'European', 'Seafood', 'Vegetarian Friendly']                            1\n",
       "['Italian', 'French', 'Swiss', 'European', 'Spanish', 'Portuguese']                 1\n",
       "Name: Cuisine, Length: 20972, dtype: int64"
      ]
     },
     "execution_count": 94,
     "metadata": {},
     "output_type": "execute_result"
    }
   ],
   "source": [
    "df['Cuisine'].value_counts(dropna=False)"
   ]
  },
  {
   "attachments": {},
   "cell_type": "markdown",
   "metadata": {},
   "source": [
    " I'm going to change the name of the column as Cuisine and I will change null values with Unknown because in the visualization it could be important "
   ]
  },
  {
   "cell_type": "code",
   "execution_count": 95,
   "metadata": {},
   "outputs": [],
   "source": [
    "def transform(line):\n",
    "    try:\n",
    "        txt = \"\"\n",
    "        line = ast.literal_eval(line)\n",
    "        for i in range(len(line)):\n",
    "            if i != len(line)-1:\n",
    "                txt += line[i] + \",\"\n",
    "            else:\n",
    "                txt += line[i]\n",
    "    except:\n",
    "        txt = \"\"\n",
    "    return txt\n",
    "\n",
    "#Applying the function\n",
    "df.Cuisine = df.Cuisine.apply(lambda x : transform(x))"
   ]
  },
  {
   "cell_type": "code",
   "execution_count": 96,
   "metadata": {},
   "outputs": [
    {
     "data": {
      "text/html": [
       "<div>\n",
       "<style scoped>\n",
       "    .dataframe tbody tr th:only-of-type {\n",
       "        vertical-align: middle;\n",
       "    }\n",
       "\n",
       "    .dataframe tbody tr th {\n",
       "        vertical-align: top;\n",
       "    }\n",
       "\n",
       "    .dataframe thead th {\n",
       "        text-align: right;\n",
       "    }\n",
       "</style>\n",
       "<table border=\"1\" class=\"dataframe\">\n",
       "  <thead>\n",
       "    <tr style=\"text-align: right;\">\n",
       "      <th></th>\n",
       "      <th>Name</th>\n",
       "      <th>City</th>\n",
       "      <th>Cuisine</th>\n",
       "      <th>Rating</th>\n",
       "      <th>PriceRange</th>\n",
       "      <th>Num_Reviews</th>\n",
       "      <th>Reviews</th>\n",
       "      <th>Country</th>\n",
       "    </tr>\n",
       "  </thead>\n",
       "  <tbody>\n",
       "    <tr>\n",
       "      <th>125522</th>\n",
       "      <td>Konrad Kaffee- &amp; Cocktailbar</td>\n",
       "      <td>Zurich</td>\n",
       "      <td></td>\n",
       "      <td>4.5</td>\n",
       "      <td>$</td>\n",
       "      <td>70.0</td>\n",
       "      <td>NaN</td>\n",
       "      <td>Switzerland</td>\n",
       "    </tr>\n",
       "    <tr>\n",
       "      <th>125523</th>\n",
       "      <td>Blueberry American Bakery</td>\n",
       "      <td>Zurich</td>\n",
       "      <td>Cafe</td>\n",
       "      <td>4.5</td>\n",
       "      <td>$</td>\n",
       "      <td>70.0</td>\n",
       "      <td>NaN</td>\n",
       "      <td>Switzerland</td>\n",
       "    </tr>\n",
       "    <tr>\n",
       "      <th>125524</th>\n",
       "      <td>Restaurant Bahnhof</td>\n",
       "      <td>Zurich</td>\n",
       "      <td></td>\n",
       "      <td>4.5</td>\n",
       "      <td>$</td>\n",
       "      <td>70.0</td>\n",
       "      <td>NaN</td>\n",
       "      <td>Switzerland</td>\n",
       "    </tr>\n",
       "    <tr>\n",
       "      <th>125525</th>\n",
       "      <td>Yoyo Pizza</td>\n",
       "      <td>Zurich</td>\n",
       "      <td>Fast Food</td>\n",
       "      <td>4.5</td>\n",
       "      <td>$</td>\n",
       "      <td>70.0</td>\n",
       "      <td>NaN</td>\n",
       "      <td>Switzerland</td>\n",
       "    </tr>\n",
       "    <tr>\n",
       "      <th>125526</th>\n",
       "      <td>dieci</td>\n",
       "      <td>Zurich</td>\n",
       "      <td>Italian,Pizza,Mediterranean,Diner</td>\n",
       "      <td>4.5</td>\n",
       "      <td>$$ - $$$</td>\n",
       "      <td>70.0</td>\n",
       "      <td>NaN</td>\n",
       "      <td>Switzerland</td>\n",
       "    </tr>\n",
       "  </tbody>\n",
       "</table>\n",
       "</div>"
      ],
      "text/plain": [
       "                                Name    City  \\\n",
       "125522  Konrad Kaffee- & Cocktailbar  Zurich   \n",
       "125523     Blueberry American Bakery  Zurich   \n",
       "125524            Restaurant Bahnhof  Zurich   \n",
       "125525                    Yoyo Pizza  Zurich   \n",
       "125526                         dieci  Zurich   \n",
       "\n",
       "                                  Cuisine  Rating PriceRange  Num_Reviews  \\\n",
       "125522                                        4.5          $         70.0   \n",
       "125523                               Cafe     4.5          $         70.0   \n",
       "125524                                        4.5          $         70.0   \n",
       "125525                          Fast Food     4.5          $         70.0   \n",
       "125526  Italian,Pizza,Mediterranean,Diner     4.5   $$ - $$$         70.0   \n",
       "\n",
       "       Reviews      Country  \n",
       "125522     NaN  Switzerland  \n",
       "125523     NaN  Switzerland  \n",
       "125524     NaN  Switzerland  \n",
       "125525     NaN  Switzerland  \n",
       "125526     NaN  Switzerland  "
      ]
     },
     "execution_count": 96,
     "metadata": {},
     "output_type": "execute_result"
    }
   ],
   "source": [
    "df.tail()"
   ]
  },
  {
   "cell_type": "code",
   "execution_count": 97,
   "metadata": {},
   "outputs": [],
   "source": [
    "#Here, I created a dictionary to hold the all cuisine types.\n",
    "#I used it to fill some of the missing cuisine values, from the restaurant name.\n",
    "#If the restaurant has its cuisine type inside of its name, fill the missing value with it.\n",
    "cuisineDict = {}\n",
    "for i in df.Cuisine:\n",
    "    arr = i.split(\",\")\n",
    "    for j in range(len(arr)):\n",
    "        if arr[j] in cuisineDict:\n",
    "            cuisineDict[arr[j]] += 1\n",
    "        else:\n",
    "            cuisineDict[arr[j]] = 1\n",
    "               \n",
    "for i in cuisineDict:\n",
    "    df.loc[(df.Name.str.lower().str.contains(i.lower()) & (df.Cuisine == \"\")), \"Cuisine\"] = i"
   ]
  },
  {
   "cell_type": "code",
   "execution_count": 98,
   "metadata": {},
   "outputs": [],
   "source": [
    "df.drop(df[df.Cuisine == \"\"].index, inplace = True)"
   ]
  },
  {
   "cell_type": "code",
   "execution_count": 99,
   "metadata": {},
   "outputs": [],
   "source": [
    "for i in [\"Mediterranean\", \"Central European\", \"Eastern European\", \"European\", \"Scandinavian\", \"Vegetarian Friendly\"]:\n",
    "    df.loc[df.Cuisine.str.contains((\",\" + i)), \"Cuisine\"] =  df.loc[df.Cuisine.str.contains((\",\" + i)), \"Cuisine\"].replace((\",\" + i), \"\", regex = True)\n",
    "    df.loc[df.Cuisine.str.contains((i + \",\")), \"Cuisine\"] =  df.loc[df.Cuisine.str.contains((i + \",\")), \"Cuisine\"].replace((i + \",\"), \"\", regex = True)\n",
    "    \n",
    "#Now I can just keep the first cuisine in the list\n",
    "df.Cuisine = df.Cuisine.apply(lambda x : x.split(\",\")[0])"
   ]
  },
  {
   "cell_type": "code",
   "execution_count": 100,
   "metadata": {},
   "outputs": [
    {
     "data": {
      "text/html": [
       "<div>\n",
       "<style scoped>\n",
       "    .dataframe tbody tr th:only-of-type {\n",
       "        vertical-align: middle;\n",
       "    }\n",
       "\n",
       "    .dataframe tbody tr th {\n",
       "        vertical-align: top;\n",
       "    }\n",
       "\n",
       "    .dataframe thead th {\n",
       "        text-align: right;\n",
       "    }\n",
       "</style>\n",
       "<table border=\"1\" class=\"dataframe\">\n",
       "  <thead>\n",
       "    <tr style=\"text-align: right;\">\n",
       "      <th></th>\n",
       "      <th>Name</th>\n",
       "      <th>City</th>\n",
       "      <th>Cuisine</th>\n",
       "      <th>Rating</th>\n",
       "      <th>PriceRange</th>\n",
       "      <th>Num_Reviews</th>\n",
       "      <th>Reviews</th>\n",
       "      <th>Country</th>\n",
       "    </tr>\n",
       "  </thead>\n",
       "  <tbody>\n",
       "    <tr>\n",
       "      <th>0</th>\n",
       "      <td>Martine of Martine's Table</td>\n",
       "      <td>Amsterdam</td>\n",
       "      <td>French</td>\n",
       "      <td>5.0</td>\n",
       "      <td>$$ - $$$</td>\n",
       "      <td>136.0</td>\n",
       "      <td>[['Just like home', 'A Warm Welcome to Wintry ...</td>\n",
       "      <td>Netherlands</td>\n",
       "    </tr>\n",
       "    <tr>\n",
       "      <th>1</th>\n",
       "      <td>De Silveren Spiegel</td>\n",
       "      <td>Amsterdam</td>\n",
       "      <td>Dutch</td>\n",
       "      <td>4.5</td>\n",
       "      <td>$$$$</td>\n",
       "      <td>812.0</td>\n",
       "      <td>[['Great food and staff', 'just perfect'], ['0...</td>\n",
       "      <td>Netherlands</td>\n",
       "    </tr>\n",
       "    <tr>\n",
       "      <th>2</th>\n",
       "      <td>La Rive</td>\n",
       "      <td>Amsterdam</td>\n",
       "      <td>French</td>\n",
       "      <td>4.5</td>\n",
       "      <td>$$$$</td>\n",
       "      <td>567.0</td>\n",
       "      <td>[['Satisfaction', 'Delicious old school restau...</td>\n",
       "      <td>Netherlands</td>\n",
       "    </tr>\n",
       "    <tr>\n",
       "      <th>3</th>\n",
       "      <td>Vinkeles</td>\n",
       "      <td>Amsterdam</td>\n",
       "      <td>French</td>\n",
       "      <td>5.0</td>\n",
       "      <td>$$$$</td>\n",
       "      <td>564.0</td>\n",
       "      <td>[['True five star dinner', 'A superb evening o...</td>\n",
       "      <td>Netherlands</td>\n",
       "    </tr>\n",
       "    <tr>\n",
       "      <th>4</th>\n",
       "      <td>Librije's Zusje Amsterdam</td>\n",
       "      <td>Amsterdam</td>\n",
       "      <td>Dutch</td>\n",
       "      <td>4.5</td>\n",
       "      <td>$$$$</td>\n",
       "      <td>316.0</td>\n",
       "      <td>[['Best meal.... EVER', 'super food experience...</td>\n",
       "      <td>Netherlands</td>\n",
       "    </tr>\n",
       "  </tbody>\n",
       "</table>\n",
       "</div>"
      ],
      "text/plain": [
       "                         Name       City Cuisine  Rating PriceRange  \\\n",
       "0  Martine of Martine's Table  Amsterdam  French     5.0   $$ - $$$   \n",
       "1         De Silveren Spiegel  Amsterdam   Dutch     4.5       $$$$   \n",
       "2                     La Rive  Amsterdam  French     4.5       $$$$   \n",
       "3                    Vinkeles  Amsterdam  French     5.0       $$$$   \n",
       "4   Librije's Zusje Amsterdam  Amsterdam   Dutch     4.5       $$$$   \n",
       "\n",
       "   Num_Reviews                                            Reviews      Country  \n",
       "0        136.0  [['Just like home', 'A Warm Welcome to Wintry ...  Netherlands  \n",
       "1        812.0  [['Great food and staff', 'just perfect'], ['0...  Netherlands  \n",
       "2        567.0  [['Satisfaction', 'Delicious old school restau...  Netherlands  \n",
       "3        564.0  [['True five star dinner', 'A superb evening o...  Netherlands  \n",
       "4        316.0  [['Best meal.... EVER', 'super food experience...  Netherlands  "
      ]
     },
     "execution_count": 100,
     "metadata": {},
     "output_type": "execute_result"
    }
   ],
   "source": [
    "df.head()"
   ]
  },
  {
   "cell_type": "code",
   "execution_count": 101,
   "metadata": {},
   "outputs": [
    {
     "name": "stdout",
     "output_type": "stream",
     "text": [
      "<class 'pandas.core.frame.DataFrame'>\n",
      "Int64Index: 100541 entries, 0 to 125526\n",
      "Data columns (total 8 columns):\n",
      " #   Column       Non-Null Count   Dtype  \n",
      "---  ------       --------------   -----  \n",
      " 0   Name         100541 non-null  object \n",
      " 1   City         100541 non-null  object \n",
      " 2   Cuisine      100541 non-null  object \n",
      " 3   Rating       100541 non-null  float64\n",
      " 4   PriceRange   100541 non-null  object \n",
      " 5   Num_Reviews  100541 non-null  float64\n",
      " 6   Reviews      94553 non-null   object \n",
      " 7   Country      100541 non-null  object \n",
      "dtypes: float64(2), object(6)\n",
      "memory usage: 6.9+ MB\n"
     ]
    }
   ],
   "source": [
    "df.info()"
   ]
  },
  {
   "cell_type": "code",
   "execution_count": 102,
   "metadata": {},
   "outputs": [
    {
     "data": {
      "text/html": [
       "<div>\n",
       "<style scoped>\n",
       "    .dataframe tbody tr th:only-of-type {\n",
       "        vertical-align: middle;\n",
       "    }\n",
       "\n",
       "    .dataframe tbody tr th {\n",
       "        vertical-align: top;\n",
       "    }\n",
       "\n",
       "    .dataframe thead th {\n",
       "        text-align: right;\n",
       "    }\n",
       "</style>\n",
       "<table border=\"1\" class=\"dataframe\">\n",
       "  <thead>\n",
       "    <tr style=\"text-align: right;\">\n",
       "      <th></th>\n",
       "      <th>Name</th>\n",
       "      <th>City</th>\n",
       "      <th>Cuisine</th>\n",
       "      <th>Rating</th>\n",
       "      <th>PriceRange</th>\n",
       "      <th>Num_Reviews</th>\n",
       "      <th>Reviews</th>\n",
       "      <th>Country</th>\n",
       "    </tr>\n",
       "  </thead>\n",
       "  <tbody>\n",
       "    <tr>\n",
       "      <th>0</th>\n",
       "      <td>Martine of Martine's Table</td>\n",
       "      <td>Amsterdam</td>\n",
       "      <td>French</td>\n",
       "      <td>5.0</td>\n",
       "      <td>$$ - $$$</td>\n",
       "      <td>136.0</td>\n",
       "      <td>[['Just like home', 'A Warm Welcome to Wintry ...</td>\n",
       "      <td>Netherlands</td>\n",
       "    </tr>\n",
       "    <tr>\n",
       "      <th>1</th>\n",
       "      <td>De Silveren Spiegel</td>\n",
       "      <td>Amsterdam</td>\n",
       "      <td>Dutch</td>\n",
       "      <td>4.5</td>\n",
       "      <td>$$$$</td>\n",
       "      <td>812.0</td>\n",
       "      <td>[['Great food and staff', 'just perfect'], ['0...</td>\n",
       "      <td>Netherlands</td>\n",
       "    </tr>\n",
       "    <tr>\n",
       "      <th>2</th>\n",
       "      <td>La Rive</td>\n",
       "      <td>Amsterdam</td>\n",
       "      <td>French</td>\n",
       "      <td>4.5</td>\n",
       "      <td>$$$$</td>\n",
       "      <td>567.0</td>\n",
       "      <td>[['Satisfaction', 'Delicious old school restau...</td>\n",
       "      <td>Netherlands</td>\n",
       "    </tr>\n",
       "    <tr>\n",
       "      <th>3</th>\n",
       "      <td>Vinkeles</td>\n",
       "      <td>Amsterdam</td>\n",
       "      <td>French</td>\n",
       "      <td>5.0</td>\n",
       "      <td>$$$$</td>\n",
       "      <td>564.0</td>\n",
       "      <td>[['True five star dinner', 'A superb evening o...</td>\n",
       "      <td>Netherlands</td>\n",
       "    </tr>\n",
       "    <tr>\n",
       "      <th>4</th>\n",
       "      <td>Librije's Zusje Amsterdam</td>\n",
       "      <td>Amsterdam</td>\n",
       "      <td>Dutch</td>\n",
       "      <td>4.5</td>\n",
       "      <td>$$$$</td>\n",
       "      <td>316.0</td>\n",
       "      <td>[['Best meal.... EVER', 'super food experience...</td>\n",
       "      <td>Netherlands</td>\n",
       "    </tr>\n",
       "  </tbody>\n",
       "</table>\n",
       "</div>"
      ],
      "text/plain": [
       "                         Name       City Cuisine  Rating PriceRange  \\\n",
       "0  Martine of Martine's Table  Amsterdam  French     5.0   $$ - $$$   \n",
       "1         De Silveren Spiegel  Amsterdam   Dutch     4.5       $$$$   \n",
       "2                     La Rive  Amsterdam  French     4.5       $$$$   \n",
       "3                    Vinkeles  Amsterdam  French     5.0       $$$$   \n",
       "4   Librije's Zusje Amsterdam  Amsterdam   Dutch     4.5       $$$$   \n",
       "\n",
       "   Num_Reviews                                            Reviews      Country  \n",
       "0        136.0  [['Just like home', 'A Warm Welcome to Wintry ...  Netherlands  \n",
       "1        812.0  [['Great food and staff', 'just perfect'], ['0...  Netherlands  \n",
       "2        567.0  [['Satisfaction', 'Delicious old school restau...  Netherlands  \n",
       "3        564.0  [['True five star dinner', 'A superb evening o...  Netherlands  \n",
       "4        316.0  [['Best meal.... EVER', 'super food experience...  Netherlands  "
      ]
     },
     "execution_count": 102,
     "metadata": {},
     "output_type": "execute_result"
    }
   ],
   "source": [
    "df.head()"
   ]
  },
  {
   "attachments": {},
   "cell_type": "markdown",
   "metadata": {},
   "source": [
    "### <p align=\"center\" style=\"background-color:#FFA500; font-family:newtimeroman; color:#FFF9ED; font-size:120%; border-radius:10px 10px;\"> Column 3 : Rating   </p>"
   ]
  },
  {
   "cell_type": "code",
   "execution_count": 103,
   "metadata": {},
   "outputs": [
    {
     "data": {
      "text/plain": [
       " 4.0    33836\n",
       " 4.5    32542\n",
       " 3.5    16420\n",
       " 5.0     7947\n",
       " 3.0     6233\n",
       " 2.5     1933\n",
       " 2.0      962\n",
       " 1.0      371\n",
       " 1.5      260\n",
       "-1.0       37\n",
       "Name: Rating, dtype: int64"
      ]
     },
     "execution_count": 103,
     "metadata": {},
     "output_type": "execute_result"
    }
   ],
   "source": [
    "df.Rating.value_counts(dropna=False)"
   ]
  },
  {
   "cell_type": "code",
   "execution_count": 104,
   "metadata": {},
   "outputs": [],
   "source": [
    "#Dropping data with rating below 0.\n",
    "df.drop(df[df.Rating < 0].index, inplace = True)"
   ]
  },
  {
   "cell_type": "code",
   "execution_count": 105,
   "metadata": {},
   "outputs": [
    {
     "data": {
      "text/plain": [
       "4.0    33836\n",
       "4.5    32542\n",
       "3.5    16420\n",
       "5.0     7947\n",
       "3.0     6233\n",
       "2.5     1933\n",
       "2.0      962\n",
       "1.0      371\n",
       "1.5      260\n",
       "Name: Rating, dtype: int64"
      ]
     },
     "execution_count": 105,
     "metadata": {},
     "output_type": "execute_result"
    }
   ],
   "source": [
    "df.Rating.value_counts(dropna=False)"
   ]
  },
  {
   "attachments": {},
   "cell_type": "markdown",
   "metadata": {},
   "source": [
    "### <p align=\"center\" style=\"background-color:#FFA500; font-family:newtimeroman; color:#FFF9ED; font-size:120%; border-radius:10px 10px;\"> Column 4 : PriceRange   </p>"
   ]
  },
  {
   "cell_type": "code",
   "execution_count": 106,
   "metadata": {},
   "outputs": [
    {
     "data": {
      "text/plain": [
       "$$ - $$$    54345\n",
       "$           41854\n",
       "$$$$         4305\n",
       "Name: PriceRange, dtype: int64"
      ]
     },
     "execution_count": 106,
     "metadata": {},
     "output_type": "execute_result"
    }
   ],
   "source": [
    "df.PriceRange.value_counts(dropna=False)"
   ]
  },
  {
   "cell_type": "code",
   "execution_count": 107,
   "metadata": {},
   "outputs": [],
   "source": [
    "#Replacing price range with a string values.\n",
    "df.replace({\"$\": 'Cheap', \"$$ - $$$\": 'Avarage', \"$$$$\": 'Expensive'}, inplace = True)"
   ]
  },
  {
   "cell_type": "code",
   "execution_count": 108,
   "metadata": {},
   "outputs": [
    {
     "data": {
      "text/html": [
       "<div>\n",
       "<style scoped>\n",
       "    .dataframe tbody tr th:only-of-type {\n",
       "        vertical-align: middle;\n",
       "    }\n",
       "\n",
       "    .dataframe tbody tr th {\n",
       "        vertical-align: top;\n",
       "    }\n",
       "\n",
       "    .dataframe thead th {\n",
       "        text-align: right;\n",
       "    }\n",
       "</style>\n",
       "<table border=\"1\" class=\"dataframe\">\n",
       "  <thead>\n",
       "    <tr style=\"text-align: right;\">\n",
       "      <th></th>\n",
       "      <th>Name</th>\n",
       "      <th>City</th>\n",
       "      <th>Cuisine</th>\n",
       "      <th>Rating</th>\n",
       "      <th>PriceRange</th>\n",
       "      <th>Num_Reviews</th>\n",
       "      <th>Reviews</th>\n",
       "      <th>Country</th>\n",
       "    </tr>\n",
       "  </thead>\n",
       "  <tbody>\n",
       "    <tr>\n",
       "      <th>0</th>\n",
       "      <td>Martine of Martine's Table</td>\n",
       "      <td>Amsterdam</td>\n",
       "      <td>French</td>\n",
       "      <td>5.0</td>\n",
       "      <td>Avarage</td>\n",
       "      <td>136.0</td>\n",
       "      <td>[['Just like home', 'A Warm Welcome to Wintry ...</td>\n",
       "      <td>Netherlands</td>\n",
       "    </tr>\n",
       "    <tr>\n",
       "      <th>1</th>\n",
       "      <td>De Silveren Spiegel</td>\n",
       "      <td>Amsterdam</td>\n",
       "      <td>Dutch</td>\n",
       "      <td>4.5</td>\n",
       "      <td>Expensive</td>\n",
       "      <td>812.0</td>\n",
       "      <td>[['Great food and staff', 'just perfect'], ['0...</td>\n",
       "      <td>Netherlands</td>\n",
       "    </tr>\n",
       "    <tr>\n",
       "      <th>2</th>\n",
       "      <td>La Rive</td>\n",
       "      <td>Amsterdam</td>\n",
       "      <td>French</td>\n",
       "      <td>4.5</td>\n",
       "      <td>Expensive</td>\n",
       "      <td>567.0</td>\n",
       "      <td>[['Satisfaction', 'Delicious old school restau...</td>\n",
       "      <td>Netherlands</td>\n",
       "    </tr>\n",
       "    <tr>\n",
       "      <th>3</th>\n",
       "      <td>Vinkeles</td>\n",
       "      <td>Amsterdam</td>\n",
       "      <td>French</td>\n",
       "      <td>5.0</td>\n",
       "      <td>Expensive</td>\n",
       "      <td>564.0</td>\n",
       "      <td>[['True five star dinner', 'A superb evening o...</td>\n",
       "      <td>Netherlands</td>\n",
       "    </tr>\n",
       "    <tr>\n",
       "      <th>4</th>\n",
       "      <td>Librije's Zusje Amsterdam</td>\n",
       "      <td>Amsterdam</td>\n",
       "      <td>Dutch</td>\n",
       "      <td>4.5</td>\n",
       "      <td>Expensive</td>\n",
       "      <td>316.0</td>\n",
       "      <td>[['Best meal.... EVER', 'super food experience...</td>\n",
       "      <td>Netherlands</td>\n",
       "    </tr>\n",
       "  </tbody>\n",
       "</table>\n",
       "</div>"
      ],
      "text/plain": [
       "                         Name       City Cuisine  Rating PriceRange  \\\n",
       "0  Martine of Martine's Table  Amsterdam  French     5.0    Avarage   \n",
       "1         De Silveren Spiegel  Amsterdam   Dutch     4.5  Expensive   \n",
       "2                     La Rive  Amsterdam  French     4.5  Expensive   \n",
       "3                    Vinkeles  Amsterdam  French     5.0  Expensive   \n",
       "4   Librije's Zusje Amsterdam  Amsterdam   Dutch     4.5  Expensive   \n",
       "\n",
       "   Num_Reviews                                            Reviews      Country  \n",
       "0        136.0  [['Just like home', 'A Warm Welcome to Wintry ...  Netherlands  \n",
       "1        812.0  [['Great food and staff', 'just perfect'], ['0...  Netherlands  \n",
       "2        567.0  [['Satisfaction', 'Delicious old school restau...  Netherlands  \n",
       "3        564.0  [['True five star dinner', 'A superb evening o...  Netherlands  \n",
       "4        316.0  [['Best meal.... EVER', 'super food experience...  Netherlands  "
      ]
     },
     "execution_count": 108,
     "metadata": {},
     "output_type": "execute_result"
    }
   ],
   "source": [
    "df.head()"
   ]
  },
  {
   "attachments": {},
   "cell_type": "markdown",
   "metadata": {},
   "source": [
    "### <p align=\"center\" style=\"background-color:#FFA500; font-family:newtimeroman; color:#FFF9ED; font-size:120%; border-radius:10px 10px;\"> Column 5 : Num_Reviews  </p>"
   ]
  },
  {
   "cell_type": "code",
   "execution_count": 109,
   "metadata": {},
   "outputs": [
    {
     "data": {
      "text/plain": [
       "count    100504.000000\n",
       "mean        139.566485\n",
       "std         319.033424\n",
       "min           2.000000\n",
       "25%          16.000000\n",
       "50%          61.000000\n",
       "75%         126.000000\n",
       "max       16478.000000\n",
       "Name: Num_Reviews, dtype: float64"
      ]
     },
     "execution_count": 109,
     "metadata": {},
     "output_type": "execute_result"
    }
   ],
   "source": [
    "df.Num_Reviews.describe()"
   ]
  },
  {
   "cell_type": "code",
   "execution_count": 110,
   "metadata": {},
   "outputs": [
    {
     "data": {
      "text/plain": [
       "70.0      10769\n",
       "2.0        3361\n",
       "3.0        2854\n",
       "4.0        2332\n",
       "5.0        2122\n",
       "          ...  \n",
       "1958.0        1\n",
       "4329.0        1\n",
       "2578.0        1\n",
       "1532.0        1\n",
       "1974.0        1\n",
       "Name: Num_Reviews, Length: 2079, dtype: int64"
      ]
     },
     "execution_count": 110,
     "metadata": {},
     "output_type": "execute_result"
    }
   ],
   "source": [
    "df.Num_Reviews.value_counts(dropna=False)"
   ]
  },
  {
   "attachments": {},
   "cell_type": "markdown",
   "metadata": {},
   "source": [
    "### <p align=\"center\" style=\"background-color:#FFA500; font-family:newtimeroman; color:#FFF9ED; font-size:120%; border-radius:10px 10px;\"> Column 5 : Num_Reviews  </p>"
   ]
  },
  {
   "cell_type": "code",
   "execution_count": 111,
   "metadata": {},
   "outputs": [
    {
     "data": {
      "text/plain": [
       "United Kingdom    17122\n",
       "France            13841\n",
       "Spain             13676\n",
       "Italy             12018\n",
       "Germany            9317\n",
       "Portugal           4373\n",
       "Czech Republic     4176\n",
       "Netherlands        3010\n",
       "Poland             2958\n",
       "Austria            2896\n",
       "Belgium            2542\n",
       "Hungary            2237\n",
       "Sweden             2057\n",
       "Ireland            1825\n",
       "Denmark            1742\n",
       "Greece             1589\n",
       "Switzerland        1371\n",
       "Finland            1035\n",
       "Norway             1000\n",
       "Slovakia            736\n",
       "Luxembourg          559\n",
       "Slovenia            424\n",
       "Name: Country, dtype: int64"
      ]
     },
     "execution_count": 111,
     "metadata": {},
     "output_type": "execute_result"
    }
   ],
   "source": [
    "df.Country.value_counts()\n"
   ]
  },
  {
   "attachments": {},
   "cell_type": "markdown",
   "metadata": {},
   "source": [
    "### <p align=\"center\" style=\"background-color:#FFA500; font-family:newtimeroman; color:#FFF9ED; font-size:120%; border-radius:10px 10px;\"> Restraunt Recommedations for every cities  </p>"
   ]
  },
  {
   "cell_type": "code",
   "execution_count": 112,
   "metadata": {},
   "outputs": [
    {
     "name": "stdout",
     "output_type": "stream",
     "text": [
      "<class 'pandas.core.frame.DataFrame'>\n",
      "Int64Index: 100504 entries, 0 to 125526\n",
      "Data columns (total 8 columns):\n",
      " #   Column       Non-Null Count   Dtype  \n",
      "---  ------       --------------   -----  \n",
      " 0   Name         100504 non-null  object \n",
      " 1   City         100504 non-null  object \n",
      " 2   Cuisine      100504 non-null  object \n",
      " 3   Rating       100504 non-null  float64\n",
      " 4   PriceRange   100504 non-null  object \n",
      " 5   Num_Reviews  100504 non-null  float64\n",
      " 6   Reviews      94517 non-null   object \n",
      " 7   Country      100504 non-null  object \n",
      "dtypes: float64(2), object(6)\n",
      "memory usage: 6.9+ MB\n"
     ]
    }
   ],
   "source": [
    "df.info()"
   ]
  },
  {
   "cell_type": "code",
   "execution_count": 113,
   "metadata": {},
   "outputs": [],
   "source": [
    "#  I'm going to make a Recommedations for each cities \n",
    "def select_restaurant(group):\n",
    "    sorted_group = group.sort_values(['Num_Reviews', 'Rating'], ascending=False)\n",
    "    return sorted_group.iloc[0]['Name']\n",
    "\n",
    "Recommedations = df.groupby(['City', 'PriceRange']).apply(select_restaurant).reset_index()\n"
   ]
  },
  {
   "cell_type": "code",
   "execution_count": 114,
   "metadata": {},
   "outputs": [
    {
     "data": {
      "text/html": [
       "<div>\n",
       "<style scoped>\n",
       "    .dataframe tbody tr th:only-of-type {\n",
       "        vertical-align: middle;\n",
       "    }\n",
       "\n",
       "    .dataframe tbody tr th {\n",
       "        vertical-align: top;\n",
       "    }\n",
       "\n",
       "    .dataframe thead th {\n",
       "        text-align: right;\n",
       "    }\n",
       "</style>\n",
       "<table border=\"1\" class=\"dataframe\">\n",
       "  <thead>\n",
       "    <tr style=\"text-align: right;\">\n",
       "      <th></th>\n",
       "      <th>City</th>\n",
       "      <th>PriceRange</th>\n",
       "      <th>0</th>\n",
       "    </tr>\n",
       "  </thead>\n",
       "  <tbody>\n",
       "    <tr>\n",
       "      <th>0</th>\n",
       "      <td>Amsterdam</td>\n",
       "      <td>Avarage</td>\n",
       "      <td>Hard Rock Cafe Amsterdam</td>\n",
       "    </tr>\n",
       "    <tr>\n",
       "      <th>1</th>\n",
       "      <td>Amsterdam</td>\n",
       "      <td>Cheap</td>\n",
       "      <td>Wok to Walk</td>\n",
       "    </tr>\n",
       "    <tr>\n",
       "      <th>2</th>\n",
       "      <td>Amsterdam</td>\n",
       "      <td>Expensive</td>\n",
       "      <td>De Kas</td>\n",
       "    </tr>\n",
       "    <tr>\n",
       "      <th>3</th>\n",
       "      <td>Athens</td>\n",
       "      <td>Avarage</td>\n",
       "      <td>Ta Karamanlidika tou Fani</td>\n",
       "    </tr>\n",
       "    <tr>\n",
       "      <th>4</th>\n",
       "      <td>Athens</td>\n",
       "      <td>Cheap</td>\n",
       "      <td>O Thanasis</td>\n",
       "    </tr>\n",
       "    <tr>\n",
       "      <th>...</th>\n",
       "      <td>...</td>\n",
       "      <td>...</td>\n",
       "      <td>...</td>\n",
       "    </tr>\n",
       "    <tr>\n",
       "      <th>88</th>\n",
       "      <td>Warsaw</td>\n",
       "      <td>Cheap</td>\n",
       "      <td>Zapiecek</td>\n",
       "    </tr>\n",
       "    <tr>\n",
       "      <th>89</th>\n",
       "      <td>Warsaw</td>\n",
       "      <td>Expensive</td>\n",
       "      <td>Polska Rozana</td>\n",
       "    </tr>\n",
       "    <tr>\n",
       "      <th>90</th>\n",
       "      <td>Zurich</td>\n",
       "      <td>Avarage</td>\n",
       "      <td>Zeughauskeller</td>\n",
       "    </tr>\n",
       "    <tr>\n",
       "      <th>91</th>\n",
       "      <td>Zurich</td>\n",
       "      <td>Cheap</td>\n",
       "      <td>Sternen Grill</td>\n",
       "    </tr>\n",
       "    <tr>\n",
       "      <th>92</th>\n",
       "      <td>Zurich</td>\n",
       "      <td>Expensive</td>\n",
       "      <td>Clouds</td>\n",
       "    </tr>\n",
       "  </tbody>\n",
       "</table>\n",
       "<p>93 rows × 3 columns</p>\n",
       "</div>"
      ],
      "text/plain": [
       "         City PriceRange                          0\n",
       "0   Amsterdam    Avarage   Hard Rock Cafe Amsterdam\n",
       "1   Amsterdam      Cheap                Wok to Walk\n",
       "2   Amsterdam  Expensive                     De Kas\n",
       "3      Athens    Avarage  Ta Karamanlidika tou Fani\n",
       "4      Athens      Cheap                 O Thanasis\n",
       "..        ...        ...                        ...\n",
       "88     Warsaw      Cheap                   Zapiecek\n",
       "89     Warsaw  Expensive              Polska Rozana\n",
       "90     Zurich    Avarage             Zeughauskeller\n",
       "91     Zurich      Cheap              Sternen Grill\n",
       "92     Zurich  Expensive                     Clouds\n",
       "\n",
       "[93 rows x 3 columns]"
      ]
     },
     "execution_count": 114,
     "metadata": {},
     "output_type": "execute_result"
    }
   ],
   "source": [
    "Recommedations"
   ]
  },
  {
   "attachments": {},
   "cell_type": "markdown",
   "metadata": {},
   "source": [
    "##  <p align=\"center\" style=\"background-color:#16A085; font-family:newtimeroman; color:#FFF9ED; font-size:120%; border-radius:10px 10px;\"> Export for Visualizations on Tableau  </p>"
   ]
  },
  {
   "cell_type": "code",
   "execution_count": 115,
   "metadata": {},
   "outputs": [],
   "source": [
    "df.to_csv('../TripAdvisor_Restaurants_31Cities/Assests/Cleaned_TripAdvisor_Restraunts.csv')\n",
    "Recommedations.to_csv('../TripAdvisor_Restaurants_31Cities/Assests/RecommedationsRestraunts.csv')"
   ]
  }
 ],
 "metadata": {
  "kernelspec": {
   "display_name": "Python 3",
   "language": "python",
   "name": "python3"
  },
  "language_info": {
   "codemirror_mode": {
    "name": "ipython",
    "version": 3
   },
   "file_extension": ".py",
   "mimetype": "text/x-python",
   "name": "python",
   "nbconvert_exporter": "python",
   "pygments_lexer": "ipython3",
   "version": "3.11.1"
  },
  "orig_nbformat": 4,
  "vscode": {
   "interpreter": {
    "hash": "aee8b7b246df8f9039afb4144a1f6fd8d2ca17a180786b69acc140d282b71a49"
   }
  }
 },
 "nbformat": 4,
 "nbformat_minor": 2
}
