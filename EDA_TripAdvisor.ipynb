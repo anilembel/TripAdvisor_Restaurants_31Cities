{
 "cells": [
  {
   "attachments": {},
   "cell_type": "markdown",
   "metadata": {},
   "source": [
    "##  <p align=\"center\" style=\"background-color:#16A085; font-family:newtimeroman; color:#FFF9ED; font-size:120%; border-radius:10px 10px;\"> Description </p>\n",
    "\n"
   ]
  },
  {
   "attachments": {},
   "cell_type": "markdown",
   "metadata": {},
   "source": [
    "# Restaurant Dashboard\n",
    "- Type of Challenge: `Learning`\n",
    "- Duration: `8 days`\n",
    "- Development Deadline: `03/05/2023 4:30 PM`\n",
    "- Repo Deadline: `12/05/2023 4:00 PM`\n",
    "- Challenge: Individual (or Team)\n",
    "\n",
    "![restaurant_food](https://media.giphy.com/media/7JzHsh3UTip20/giphy.gif)\n",
    "\n",
    "\n",
    "## Mission objectives\n",
    "\n",
    "- Be able to use data visualization libraries `matplotlib`, `seaborn`, or data tools like PowerBI to explore the data.\n",
    "- Be able to clean a dataset for analysis.\n",
    "- Be able to use colors in visualizations correctly.\n",
    "- Be able to establish conclusions about a dataset.\n",
    "- Be able to find and answer creative questions about data.\n",
    "- Be able to think outside the box.\n",
    "- Be able to create a dashboard containg visualizations that bring business insights to the client.\n",
    "\n",
    "\n",
    "## The Mission\n",
    "\n",
    "You are a data analysis consultant at an European travel agency. Your mission is to help the company find business insights from their data that will help them grow their business. \n",
    "\n",
    "To do so, you will create a dashboard! What is important to include in the dashboard? Ideally, this dashboard would help travel agents make recommendation to travellers on the best food destination for their trips across Europe.\n",
    "\n",
    "As a starting point, they provide you with data they scrapped from Trip Advisor, a popular travel website. \n",
    "\n",
    "Dataset: [TripAdvisor Restaurants Info for 31 Euro-Cities](https://www.kaggle.com/datasets/damienbeneschi/krakow-ta-restaurans-data-raw)"
   ]
  },
  {
   "attachments": {},
   "cell_type": "markdown",
   "metadata": {},
   "source": [
    "##  <p align=\"center\" style=\"background-color:#16A085; font-family:newtimeroman; color:#FFF9ED; font-size:120%; border-radius:10px 10px;\"> Imports </p>\n",
    "\n"
   ]
  },
  {
   "cell_type": "code",
   "execution_count": 90,
   "metadata": {},
   "outputs": [],
   "source": [
    "import pandas as pd \n",
    "import numpy as np \n",
    "from skimpy import clean_columns"
   ]
  },
  {
   "cell_type": "code",
   "execution_count": 91,
   "metadata": {},
   "outputs": [],
   "source": [
    "df = pd.read_csv('../TripAdvisor_Restaurants_31Cities/Assests/TA_restaurants_curated.csv', index_col=None)"
   ]
  },
  {
   "cell_type": "code",
   "execution_count": 92,
   "metadata": {},
   "outputs": [],
   "source": [
    "df.drop(columns='Unnamed: 0', inplace= True)"
   ]
  },
  {
   "attachments": {},
   "cell_type": "markdown",
   "metadata": {},
   "source": [
    "##  <p align=\"center\" style=\"background-color:#16A085; font-family:newtimeroman; color:#FFF9ED; font-size:120%; border-radius:10px 10px;\"> Data Preproccesing </p>"
   ]
  },
  {
   "cell_type": "code",
   "execution_count": 93,
   "metadata": {},
   "outputs": [
    {
     "name": "stdout",
     "output_type": "stream",
     "text": [
      "<class 'pandas.core.frame.DataFrame'>\n",
      "RangeIndex: 125527 entries, 0 to 125526\n",
      "Data columns (total 10 columns):\n",
      " #   Column             Non-Null Count   Dtype  \n",
      "---  ------             --------------   -----  \n",
      " 0   Name               125527 non-null  object \n",
      " 1   City               125527 non-null  object \n",
      " 2   Cuisine Style      94176 non-null   object \n",
      " 3   Ranking            115876 non-null  float64\n",
      " 4   Rating             115897 non-null  float64\n",
      " 5   Price Range        77672 non-null   object \n",
      " 6   Number of Reviews  108183 non-null  float64\n",
      " 7   Reviews            115911 non-null  object \n",
      " 8   URL_TA             125527 non-null  object \n",
      " 9   ID_TA              125527 non-null  object \n",
      "dtypes: float64(3), object(7)\n",
      "memory usage: 9.6+ MB\n"
     ]
    }
   ],
   "source": [
    "df.info()"
   ]
  },
  {
   "cell_type": "code",
   "execution_count": 99,
   "metadata": {},
   "outputs": [
    {
     "data": {
      "text/html": [
       "<div>\n",
       "<style scoped>\n",
       "    .dataframe tbody tr th:only-of-type {\n",
       "        vertical-align: middle;\n",
       "    }\n",
       "\n",
       "    .dataframe tbody tr th {\n",
       "        vertical-align: top;\n",
       "    }\n",
       "\n",
       "    .dataframe thead th {\n",
       "        text-align: right;\n",
       "    }\n",
       "</style>\n",
       "<table border=\"1\" class=\"dataframe\">\n",
       "  <thead>\n",
       "    <tr style=\"text-align: right;\">\n",
       "      <th></th>\n",
       "      <th>Name</th>\n",
       "      <th>City</th>\n",
       "      <th>Cuisine Style</th>\n",
       "      <th>Ranking</th>\n",
       "      <th>Rating</th>\n",
       "      <th>Price Range</th>\n",
       "      <th>Number of Reviews</th>\n",
       "      <th>Reviews</th>\n",
       "    </tr>\n",
       "  </thead>\n",
       "  <tbody>\n",
       "    <tr>\n",
       "      <th>0</th>\n",
       "      <td>Martine of Martine's Table</td>\n",
       "      <td>Amsterdam</td>\n",
       "      <td>['French', 'Dutch', 'European']</td>\n",
       "      <td>1.0</td>\n",
       "      <td>5.0</td>\n",
       "      <td>$$ - $$$</td>\n",
       "      <td>136.0</td>\n",
       "      <td>[['Just like home', 'A Warm Welcome to Wintry ...</td>\n",
       "    </tr>\n",
       "    <tr>\n",
       "      <th>1</th>\n",
       "      <td>De Silveren Spiegel</td>\n",
       "      <td>Amsterdam</td>\n",
       "      <td>['Dutch', 'European', 'Vegetarian Friendly', '...</td>\n",
       "      <td>2.0</td>\n",
       "      <td>4.5</td>\n",
       "      <td>$$$$</td>\n",
       "      <td>812.0</td>\n",
       "      <td>[['Great food and staff', 'just perfect'], ['0...</td>\n",
       "    </tr>\n",
       "    <tr>\n",
       "      <th>2</th>\n",
       "      <td>La Rive</td>\n",
       "      <td>Amsterdam</td>\n",
       "      <td>['Mediterranean', 'French', 'International', '...</td>\n",
       "      <td>3.0</td>\n",
       "      <td>4.5</td>\n",
       "      <td>$$$$</td>\n",
       "      <td>567.0</td>\n",
       "      <td>[['Satisfaction', 'Delicious old school restau...</td>\n",
       "    </tr>\n",
       "    <tr>\n",
       "      <th>3</th>\n",
       "      <td>Vinkeles</td>\n",
       "      <td>Amsterdam</td>\n",
       "      <td>['French', 'European', 'International', 'Conte...</td>\n",
       "      <td>4.0</td>\n",
       "      <td>5.0</td>\n",
       "      <td>$$$$</td>\n",
       "      <td>564.0</td>\n",
       "      <td>[['True five star dinner', 'A superb evening o...</td>\n",
       "    </tr>\n",
       "    <tr>\n",
       "      <th>4</th>\n",
       "      <td>Librije's Zusje Amsterdam</td>\n",
       "      <td>Amsterdam</td>\n",
       "      <td>['Dutch', 'European', 'International', 'Vegeta...</td>\n",
       "      <td>5.0</td>\n",
       "      <td>4.5</td>\n",
       "      <td>$$$$</td>\n",
       "      <td>316.0</td>\n",
       "      <td>[['Best meal.... EVER', 'super food experience...</td>\n",
       "    </tr>\n",
       "    <tr>\n",
       "      <th>5</th>\n",
       "      <td>Ciel Bleu Restaurant</td>\n",
       "      <td>Amsterdam</td>\n",
       "      <td>['Contemporary', 'International', 'Vegetarian ...</td>\n",
       "      <td>6.0</td>\n",
       "      <td>4.5</td>\n",
       "      <td>$$$$</td>\n",
       "      <td>745.0</td>\n",
       "      <td>[['A treat!', 'Wow just Wow'], ['01/01/2018', ...</td>\n",
       "    </tr>\n",
       "    <tr>\n",
       "      <th>6</th>\n",
       "      <td>Zaza's</td>\n",
       "      <td>Amsterdam</td>\n",
       "      <td>['French', 'International', 'Mediterranean', '...</td>\n",
       "      <td>7.0</td>\n",
       "      <td>4.5</td>\n",
       "      <td>$$ - $$$</td>\n",
       "      <td>1455.0</td>\n",
       "      <td>[['40th Birthday with my Family', 'One of the ...</td>\n",
       "    </tr>\n",
       "  </tbody>\n",
       "</table>\n",
       "</div>"
      ],
      "text/plain": [
       "                         Name       City  \\\n",
       "0  Martine of Martine's Table  Amsterdam   \n",
       "1         De Silveren Spiegel  Amsterdam   \n",
       "2                     La Rive  Amsterdam   \n",
       "3                    Vinkeles  Amsterdam   \n",
       "4   Librije's Zusje Amsterdam  Amsterdam   \n",
       "5        Ciel Bleu Restaurant  Amsterdam   \n",
       "6                      Zaza's  Amsterdam   \n",
       "\n",
       "                                       Cuisine Style  Ranking  Rating  \\\n",
       "0                    ['French', 'Dutch', 'European']      1.0     5.0   \n",
       "1  ['Dutch', 'European', 'Vegetarian Friendly', '...      2.0     4.5   \n",
       "2  ['Mediterranean', 'French', 'International', '...      3.0     4.5   \n",
       "3  ['French', 'European', 'International', 'Conte...      4.0     5.0   \n",
       "4  ['Dutch', 'European', 'International', 'Vegeta...      5.0     4.5   \n",
       "5  ['Contemporary', 'International', 'Vegetarian ...      6.0     4.5   \n",
       "6  ['French', 'International', 'Mediterranean', '...      7.0     4.5   \n",
       "\n",
       "  Price Range  Number of Reviews  \\\n",
       "0    $$ - $$$              136.0   \n",
       "1        $$$$              812.0   \n",
       "2        $$$$              567.0   \n",
       "3        $$$$              564.0   \n",
       "4        $$$$              316.0   \n",
       "5        $$$$              745.0   \n",
       "6    $$ - $$$             1455.0   \n",
       "\n",
       "                                             Reviews  \n",
       "0  [['Just like home', 'A Warm Welcome to Wintry ...  \n",
       "1  [['Great food and staff', 'just perfect'], ['0...  \n",
       "2  [['Satisfaction', 'Delicious old school restau...  \n",
       "3  [['True five star dinner', 'A superb evening o...  \n",
       "4  [['Best meal.... EVER', 'super food experience...  \n",
       "5  [['A treat!', 'Wow just Wow'], ['01/01/2018', ...  \n",
       "6  [['40th Birthday with my Family', 'One of the ...  "
      ]
     },
     "execution_count": 99,
     "metadata": {},
     "output_type": "execute_result"
    }
   ],
   "source": [
    "df.head(7)"
   ]
  },
  {
   "cell_type": "code",
   "execution_count": 95,
   "metadata": {},
   "outputs": [],
   "source": [
    "df.drop(['URL_TA', 'ID_TA'],axis = 1, inplace= True) # I'ö dropping this two columns because I don't need them. "
   ]
  },
  {
   "cell_type": "code",
   "execution_count": 96,
   "metadata": {},
   "outputs": [],
   "source": [
    "# functions that showing the percantage of the null values \n",
    "\n",
    "def number_nulls(df):\n",
    "    missing = df.isnull().sum() \n",
    "    return missing\n",
    "\n",
    "def percantage_nulls(serial):\n",
    "    return serial.isnull().sum() * 100 / serial.shape[0]"
   ]
  },
  {
   "cell_type": "code",
   "execution_count": 97,
   "metadata": {},
   "outputs": [
    {
     "name": "stdout",
     "output_type": "stream",
     "text": [
      "Name : 0.0\n",
      "City : 0.0\n",
      "Cuisine Style : 24.975503278179197\n",
      "Ranking : 7.688385765612179\n",
      "Rating : 7.67165629705163\n",
      "Price Range : 38.123272284050444\n",
      "Number of Reviews : 13.816947748293195\n",
      "Reviews : 7.660503318011265\n"
     ]
    }
   ],
   "source": [
    "for col in df.columns:\n",
    "    \n",
    "    print(col + \" : \" + str(percantage_nulls(df[col])))"
   ]
  },
  {
   "cell_type": "code",
   "execution_count": 100,
   "metadata": {},
   "outputs": [
    {
     "name": "stdout",
     "output_type": "stream",
     "text": [
      "Name : 0\n",
      "City : 0\n",
      "Cuisine Style : 31351\n",
      "Ranking : 9651\n",
      "Rating : 9630\n",
      "Price Range : 47855\n",
      "Number of Reviews : 17344\n",
      "Reviews : 9616\n"
     ]
    }
   ],
   "source": [
    "for col in df.columns:\n",
    "    \n",
    "    print(col + \" : \" + str(number_nulls(df[col])))"
   ]
  },
  {
   "cell_type": "code",
   "execution_count": 101,
   "metadata": {},
   "outputs": [
    {
     "name": "stdout",
     "output_type": "stream",
     "text": [
      "<class 'pandas.core.frame.DataFrame'>\n",
      "RangeIndex: 125527 entries, 0 to 125526\n",
      "Data columns (total 8 columns):\n",
      " #   Column             Non-Null Count   Dtype  \n",
      "---  ------             --------------   -----  \n",
      " 0   Name               125527 non-null  object \n",
      " 1   City               125527 non-null  object \n",
      " 2   Cuisine Style      94176 non-null   object \n",
      " 3   Ranking            115876 non-null  float64\n",
      " 4   Rating             115897 non-null  float64\n",
      " 5   Price Range        77672 non-null   object \n",
      " 6   Number of Reviews  108183 non-null  float64\n",
      " 7   Reviews            115911 non-null  object \n",
      "dtypes: float64(3), object(5)\n",
      "memory usage: 7.7+ MB\n"
     ]
    }
   ],
   "source": [
    "df.info()"
   ]
  },
  {
   "cell_type": "code",
   "execution_count": null,
   "metadata": {},
   "outputs": [],
   "source": []
  }
 ],
 "metadata": {
  "kernelspec": {
   "display_name": "Python 3",
   "language": "python",
   "name": "python3"
  },
  "language_info": {
   "codemirror_mode": {
    "name": "ipython",
    "version": 3
   },
   "file_extension": ".py",
   "mimetype": "text/x-python",
   "name": "python",
   "nbconvert_exporter": "python",
   "pygments_lexer": "ipython3",
   "version": "3.11.1"
  },
  "orig_nbformat": 4,
  "vscode": {
   "interpreter": {
    "hash": "aee8b7b246df8f9039afb4144a1f6fd8d2ca17a180786b69acc140d282b71a49"
   }
  }
 },
 "nbformat": 4,
 "nbformat_minor": 2
}
